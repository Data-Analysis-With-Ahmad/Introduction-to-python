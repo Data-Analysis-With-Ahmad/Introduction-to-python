{
 "cells": [
  {
   "cell_type": "markdown",
   "id": "0e584e6a",
   "metadata": {},
   "source": [
    "# lesson1"
   ]
  },
  {
   "cell_type": "markdown",
   "id": "f7cf7a1d-fef2-48c6-97bc-1388b58b90f1",
   "metadata": {},
   "source": [
    "# 1.1 Print Hello using print()"
   ]
  },
  {
   "cell_type": "code",
   "execution_count": 11,
   "id": "ec0cfb33",
   "metadata": {},
   "outputs": [
    {
     "name": "stdout",
     "output_type": "stream",
     "text": [
      "Hello\n"
     ]
    }
   ],
   "source": [
    "print('Hello')"
   ]
  },
  {
   "cell_type": "markdown",
   "id": "71b4f7b6-4bcc-43cf-a5c3-15291a1cf225",
   "metadata": {},
   "source": [
    "# 2.1 Add comment before and after printing Hello, Python!"
   ]
  },
  {
   "cell_type": "code",
   "execution_count": 13,
   "id": "a6cbff78",
   "metadata": {},
   "outputs": [
    {
     "name": "stdout",
     "output_type": "stream",
     "text": [
      "Hello, Python!\n"
     ]
    }
   ],
   "source": [
    "# هذا تعليق\n",
    "print (\"Hello, Python!\") # تعليق آخر"
   ]
  },
  {
   "cell_type": "markdown",
   "id": "a8b80ad9-4ec8-4b37-a6ae-9b2238451619",
   "metadata": {},
   "source": [
    "# 3.1 Add multiline comments "
   ]
  },
  {
   "cell_type": "code",
   "execution_count": 3,
   "id": "90fa71f3",
   "metadata": {},
   "outputs": [
    {
     "name": "stdout",
     "output_type": "stream",
     "text": [
      "Hello World!\n"
     ]
    }
   ],
   "source": [
    "\"\"\"This is a multi line comment.\n",
    "It's wonderful how easy is Python language!\"\"\"\n",
    "print (\"Hello World!\")"
   ]
  },
  {
   "cell_type": "markdown",
   "id": "cc066bf5-28a0-49cf-bbfe-b3caf08d7905",
   "metadata": {},
   "source": [
    "# 4.1 print hello world in 2 lines"
   ]
  },
  {
   "cell_type": "code",
   "execution_count": 17,
   "id": "7b78336d-d4ce-441a-a20c-31c79838f1c3",
   "metadata": {},
   "outputs": [
    {
     "name": "stdout",
     "output_type": "stream",
     "text": [
      "Hello\n",
      "World\n"
     ]
    }
   ],
   "source": [
    "print (\"Hello\") ; print(\"World\")"
   ]
  },
  {
   "cell_type": "markdown",
   "id": "e1544d8b-e27f-4104-b217-159aa7eb57cd",
   "metadata": {},
   "source": [
    "# 5.1 simple calculation to add two numbers"
   ]
  },
  {
   "cell_type": "code",
   "execution_count": 20,
   "id": "5646044c",
   "metadata": {},
   "outputs": [
    {
     "name": "stdout",
     "output_type": "stream",
     "text": [
      "2\n"
     ]
    }
   ],
   "source": [
    "result = 1+1\n",
    "print(result)"
   ]
  },
  {
   "cell_type": "markdown",
   "id": "12e8a940-21ff-4ff5-8317-4056c2e30e13",
   "metadata": {},
   "source": [
    "# 6.1  calculate the difference between 2 and 6\n"
   ]
  },
  {
   "cell_type": "code",
   "execution_count": 21,
   "id": "1569e49f",
   "metadata": {},
   "outputs": [
    {
     "name": "stdout",
     "output_type": "stream",
     "text": [
      "-4\n"
     ]
    }
   ],
   "source": [
    "result = 2 - 6\n",
    "print(result)  # Output: -4"
   ]
  },
  {
   "cell_type": "markdown",
   "id": "1ec6a5f0-8a37-4a82-94d7-f7ccb83a4350",
   "metadata": {},
   "source": [
    "# 7.1 This multiplies 4 and 5 to get the product20"
   ]
  },
  {
   "cell_type": "code",
   "execution_count": 22,
   "id": "cef3da30",
   "metadata": {},
   "outputs": [
    {
     "name": "stdout",
     "output_type": "stream",
     "text": [
      "20\n"
     ]
    }
   ],
   "source": [
    "result = 4 * 5\n",
    "print(result)  # Output: 20"
   ]
  },
  {
   "cell_type": "markdown",
   "id": "f192d51d-0fcd-4cd6-9e8d-bb4869514719",
   "metadata": {},
   "source": [
    "# 8.1 What is the result of dividing 4 by 2?\r\n"
   ]
  },
  {
   "cell_type": "code",
   "execution_count": 23,
   "id": "993d8a7a",
   "metadata": {},
   "outputs": [
    {
     "data": {
      "text/plain": [
       "2.0"
      ]
     },
     "execution_count": 23,
     "metadata": {},
     "output_type": "execute_result"
    }
   ],
   "source": [
    "4/2"
   ]
  },
  {
   "cell_type": "code",
   "execution_count": 24,
   "id": "6499bc89",
   "metadata": {},
   "outputs": [
    {
     "data": {
      "text/plain": [
       "2"
      ]
     },
     "execution_count": 24,
     "metadata": {},
     "output_type": "execute_result"
    }
   ],
   "source": [
    "4//2"
   ]
  },
  {
   "cell_type": "code",
   "execution_count": 25,
   "id": "3f199c30",
   "metadata": {},
   "outputs": [
    {
     "ename": "ZeroDivisionError",
     "evalue": "division by zero",
     "output_type": "error",
     "traceback": [
      "\u001b[1;31m---------------------------------------------------------------------------\u001b[0m",
      "\u001b[1;31mZeroDivisionError\u001b[0m                         Traceback (most recent call last)",
      "Cell \u001b[1;32mIn[25], line 1\u001b[0m\n\u001b[1;32m----> 1\u001b[0m \u001b[38;5;241m3\u001b[39m\u001b[38;5;241m/\u001b[39m\u001b[38;5;241m0\u001b[39m\n",
      "\u001b[1;31mZeroDivisionError\u001b[0m: division by zero"
     ]
    }
   ],
   "source": [
    "3/0"
   ]
  },
  {
   "cell_type": "markdown",
   "id": "8c633710",
   "metadata": {},
   "source": [
    " Hello Python\n",
    "> this is first session\n"
   ]
  },
  {
   "cell_type": "code",
   "execution_count": null,
   "id": "f064d798-c529-4917-bcb4-d3f81e2371d9",
   "metadata": {},
   "outputs": [],
   "source": [
    "1,2,3,-9"
   ]
  },
  {
   "cell_type": "markdown",
   "id": "e5422399",
   "metadata": {},
   "source": [
    "# lesson2"
   ]
  },
  {
   "cell_type": "code",
   "execution_count": null,
   "id": "f1674794-d2c6-421f-9dd3-24e7aae97361",
   "metadata": {},
   "outputs": [],
   "source": []
  },
  {
   "cell_type": "code",
   "execution_count": null,
   "id": "eec9bf04",
   "metadata": {},
   "outputs": [],
   "source": [
    "x = 10  # متغير من نوع integer\n",
    "x"
   ]
  },
  {
   "cell_type": "code",
   "execution_count": null,
   "id": "fd953f57",
   "metadata": {},
   "outputs": [],
   "source": [
    "pi = 3.14  # متغير من نوع float\n",
    "pi"
   ]
  },
  {
   "cell_type": "code",
   "execution_count": null,
   "id": "417ca44e",
   "metadata": {},
   "outputs": [],
   "source": [
    "name = \"Alice\"  # متغير نصي يحتوي على اسم\n",
    "message = 'Hello, how are you?'  # متغير نصي يحتوي على جملة"
   ]
  },
  {
   "cell_type": "code",
   "execution_count": null,
   "id": "7f8cf48e",
   "metadata": {},
   "outputs": [],
   "source": [
    "umbers = [1, 2, 3, 4, 5]  # قائمة من الأعداد\n",
    "names = [\"Alice\", \"Bob\", \"Charlie\"]  # قائمة من الأسماء"
   ]
  },
  {
   "cell_type": "code",
   "execution_count": null,
   "id": "2e18241a",
   "metadata": {},
   "outputs": [],
   "source": [
    "names"
   ]
  },
  {
   "cell_type": "code",
   "execution_count": null,
   "id": "064285e5",
   "metadata": {},
   "outputs": [],
   "source": [
    "is_true = True  # متغير منطقي يحتوي على قيمة صحيحة True\n",
    "is_false = False  # متغير منطقي يحتوي على قيمة خاطئة False"
   ]
  },
  {
   "cell_type": "code",
   "execution_count": null,
   "id": "ff739272",
   "metadata": {},
   "outputs": [],
   "source": [
    "my_tuple = (1, 2, \"three\")  # Tuple يحتوي على أعداد ونصوص"
   ]
  },
  {
   "cell_type": "code",
   "execution_count": null,
   "id": "fa639b11",
   "metadata": {},
   "outputs": [],
   "source": [
    "my_dict = {\"name\": \"John\", \"age\": 30, \"city\": \"New York\"}  # قاموس يحتوي على مفاتيح وقيم"
   ]
  },
  {
   "cell_type": "code",
   "execution_count": null,
   "id": "d64be231",
   "metadata": {},
   "outputs": [],
   "source": [
    "my_dict"
   ]
  },
  {
   "cell_type": "code",
   "execution_count": null,
   "id": "e0b50077",
   "metadata": {},
   "outputs": [],
   "source": [
    "5 + 2 "
   ]
  },
  {
   "cell_type": "code",
   "execution_count": null,
   "id": "3fea22a1",
   "metadata": {},
   "outputs": [],
   "source": [
    "1216516848515641*4984510451"
   ]
  },
  {
   "cell_type": "code",
   "execution_count": null,
   "id": "f12aa7a9",
   "metadata": {},
   "outputs": [],
   "source": [
    "x = 5 \n",
    "y = 45"
   ]
  },
  {
   "cell_type": "code",
   "execution_count": null,
   "id": "7232ac11",
   "metadata": {},
   "outputs": [],
   "source": [
    "x+y"
   ]
  },
  {
   "cell_type": "code",
   "execution_count": null,
   "id": "d15ae96d",
   "metadata": {},
   "outputs": [],
   "source": [
    "X"
   ]
  },
  {
   "cell_type": "markdown",
   "id": "9939a30a",
   "metadata": {},
   "source": [
    "Types of data"
   ]
  },
  {
   "cell_type": "code",
   "execution_count": null,
   "id": "64a8c035",
   "metadata": {},
   "outputs": [],
   "source": [
    "type(2)"
   ]
  },
  {
   "cell_type": "code",
   "execution_count": null,
   "id": "a01ea117",
   "metadata": {},
   "outputs": [],
   "source": [
    "type(2.5565)"
   ]
  },
  {
   "cell_type": "code",
   "execution_count": null,
   "id": "92eca178",
   "metadata": {},
   "outputs": [],
   "source": [
    "type(2.0)"
   ]
  },
  {
   "cell_type": "code",
   "execution_count": null,
   "id": "179cb04a",
   "metadata": {},
   "outputs": [],
   "source": [
    "float(2)"
   ]
  },
  {
   "cell_type": "code",
   "execution_count": null,
   "id": "b4be5762",
   "metadata": {},
   "outputs": [],
   "source": [
    "int(2.5)"
   ]
  },
  {
   "cell_type": "code",
   "execution_count": null,
   "id": "b3abc007",
   "metadata": {},
   "outputs": [],
   "source": [
    "'ahmad is a bigenner'"
   ]
  },
  {
   "cell_type": "code",
   "execution_count": null,
   "id": "da1782e4",
   "metadata": {},
   "outputs": [],
   "source": [
    "'12365'"
   ]
  },
  {
   "cell_type": "code",
   "execution_count": null,
   "id": "75e2c861",
   "metadata": {},
   "outputs": [],
   "source": [
    "type('12365')"
   ]
  },
  {
   "cell_type": "code",
   "execution_count": null,
   "id": "ffd0fe4c",
   "metadata": {},
   "outputs": [],
   "source": [
    "x = ' ali'\n",
    "y = ' is '\n",
    "z = '2EROIhu'"
   ]
  },
  {
   "cell_type": "code",
   "execution_count": null,
   "id": "ac9880df",
   "metadata": {},
   "outputs": [],
   "source": [
    "x + y +z "
   ]
  },
  {
   "cell_type": "code",
   "execution_count": null,
   "id": "376c277f",
   "metadata": {},
   "outputs": [],
   "source": [
    "55==55"
   ]
  },
  {
   "cell_type": "code",
   "execution_count": null,
   "id": "8ba7c49c",
   "metadata": {},
   "outputs": [],
   "source": [
    "4 == 5"
   ]
  },
  {
   "cell_type": "code",
   "execution_count": null,
   "id": "788b61f9",
   "metadata": {},
   "outputs": [],
   "source": [
    "x = 5 + 3  # x سيحتوي على القيمة 8\n",
    "x"
   ]
  },
  {
   "cell_type": "code",
   "execution_count": null,
   "id": "cd102508",
   "metadata": {},
   "outputs": [],
   "source": [
    "y = 7 - 2  # y سيحتوي على القيمة 5\n",
    "y"
   ]
  },
  {
   "cell_type": "code",
   "execution_count": null,
   "id": "02256180",
   "metadata": {},
   "outputs": [],
   "source": [
    "x * y #الضرب\n"
   ]
  },
  {
   "cell_type": "code",
   "execution_count": null,
   "id": "389d4b83",
   "metadata": {},
   "outputs": [],
   "source": [
    "x // 2# القسمة الصحيحة"
   ]
  },
  {
   "cell_type": "code",
   "execution_count": null,
   "id": "8280c4e8",
   "metadata": {},
   "outputs": [],
   "source": [
    "x / 2 "
   ]
  },
  {
   "cell_type": "code",
   "execution_count": null,
   "id": "ee17c177",
   "metadata": {},
   "outputs": [],
   "source": [
    "4 % 3 #الباقي"
   ]
  },
  {
   "cell_type": "code",
   "execution_count": null,
   "id": "b590a9b0",
   "metadata": {},
   "outputs": [],
   "source": [
    "print('Hello ' + 'World')\n"
   ]
  },
  {
   "cell_type": "code",
   "execution_count": null,
   "id": "c0bf4287",
   "metadata": {},
   "outputs": [],
   "source": [
    "'Hello ' * 3"
   ]
  },
  {
   "cell_type": "code",
   "execution_count": null,
   "id": "4018cba8",
   "metadata": {},
   "outputs": [],
   "source": [
    "x = 5\n",
    "y = 10\n",
    "\n",
    "# x أقل من 7 و y التحقق مما إذا كانت أكبر من 8\n",
    "result = (x < 7) and (y > 8)\n",
    "print(result)  #True  الناتج سيكون   لأن كل الشروط محققة\n"
   ]
  },
  {
   "cell_type": "code",
   "execution_count": null,
   "id": "98031615",
   "metadata": {},
   "outputs": [],
   "source": [
    "age = 25\n",
    "\n",
    "# التحقق مما إذا كانت العمر أقل من 18 أو أكبر من 60\n",
    "eligible = (age < 18) or (age > 60)\n",
    "print(eligible)  #False الناتج سيكون  لأن الشرطين غير صحيحين"
   ]
  },
  {
   "cell_type": "code",
   "execution_count": null,
   "id": "f8f9f0bb",
   "metadata": {},
   "outputs": [],
   "source": [
    "rainy_day = False\n",
    "\n",
    "# التحقق مما إذا كان اليوم ليس يوم ممطر\n",
    "not_rainy = not rainy_day\n",
    "print(not_rainy)  # الناتج سيكون True لأن قيمة الشرط قد تغيرت إلى العكس"
   ]
  },
  {
   "cell_type": "code",
   "execution_count": null,
   "id": "dfa5fdd4",
   "metadata": {},
   "outputs": [],
   "source": [
    "text1 = \"Hello, \"\n",
    "text2 = \"world!\"\n",
    "\n",
    "# استخدام عملية الجمع لدمج النصوص\n",
    "result = text1 + text2\n",
    "print(result)  # سيظهر: \"Hello, world!\""
   ]
  },
  {
   "cell_type": "code",
   "execution_count": null,
   "id": "b66b8bdc",
   "metadata": {},
   "outputs": [],
   "source": [
    "الضرب (*): تُستخدم لتكرار النصوص."
   ]
  },
  {
   "cell_type": "code",
   "execution_count": null,
   "id": "6fbd6bfc",
   "metadata": {},
   "outputs": [],
   "source": [
    "name = 'python '\n",
    "name * 3"
   ]
  },
  {
   "cell_type": "code",
   "execution_count": null,
   "id": "9b5db7e3",
   "metadata": {},
   "outputs": [],
   "source": []
  }
 ],
 "metadata": {
  "kernelspec": {
   "display_name": "Python 3 (ipykernel)",
   "language": "python",
   "name": "python3"
  },
  "language_info": {
   "codemirror_mode": {
    "name": "ipython",
    "version": 3
   },
   "file_extension": ".py",
   "mimetype": "text/x-python",
   "name": "python",
   "nbconvert_exporter": "python",
   "pygments_lexer": "ipython3",
   "version": "3.11.7"
  }
 },
 "nbformat": 4,
 "nbformat_minor": 5
}
