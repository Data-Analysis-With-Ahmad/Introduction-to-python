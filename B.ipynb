{
 "cells": [
  {
   "cell_type": "markdown",
   "id": "604d1181-1971-406f-ba3b-85ad0726f4f7",
   "metadata": {},
   "source": [
    "# 1. Define two variables containing the two components 10 and "
   ]
  },
  {
   "cell_type": "code",
   "execution_count": 11,
   "id": "e6057ba4-5885-40a5-8626-dd35a257c9a0",
   "metadata": {},
   "outputs": [],
   "source": [
    "x = 10\n",
    "y = 5"
   ]
  },
  {
   "cell_type": "markdown",
   "id": "ef3d1acb-3468-4c43-8cf7-a960389012c4",
   "metadata": {},
   "source": [
    "# 2. Perform addition and subtraction on x and y. "
   ]
  },
  {
   "cell_type": "code",
   "execution_count": 12,
   "id": "317ecb2c-4517-4a4e-85c7-6e64ad1f0911",
   "metadata": {},
   "outputs": [],
   "source": [
    "# الجمع والطرح\n",
    "result1 = x + y\n",
    "result2 = x - y"
   ]
  },
  {
   "cell_type": "markdown",
   "id": "a71ed413-dd33-4fba-8faa-86c35479ac30",
   "metadata": {},
   "source": [
    "# 3. Perform * and / on x and y."
   ]
  },
  {
   "cell_type": "code",
   "execution_count": 16,
   "id": "c84828e2-6cb1-4918-9a25-6175559997f0",
   "metadata": {},
   "outputs": [],
   "source": [
    "# الضرب والقسمة\n",
    "result3 = x * y\n",
    "result4 = x // y"
   ]
  },
  {
   "cell_type": "markdown",
   "id": "3d53473c-815e-4348-b96a-468b6bc9b95c",
   "metadata": {},
   "source": [
    "# 4. Apply logical operations to the two variables"
   ]
  },
  {
   "cell_type": "code",
   "execution_count": 14,
   "id": "ec60d1d8-57a5-4f8b-962c-e92a1ea3b3d4",
   "metadata": {},
   "outputs": [],
   "source": [
    "#  العمليات المنطقية\n",
    "logical_result = x > y"
   ]
  },
  {
   "cell_type": "markdown",
   "id": "74e7be87-af58-459f-9d20-5f50f11d7fa7",
   "metadata": {},
   "source": [
    "# 5. Print the result"
   ]
  },
  {
   "cell_type": "code",
   "execution_count": 17,
   "id": "599592f9-301a-404a-b95d-7f64ac10a751",
   "metadata": {},
   "outputs": [
    {
     "name": "stdout",
     "output_type": "stream",
     "text": [
      "The sum of x and y is: 15\n",
      "The sub of x and y is 5\n",
      "The mult of x and y is 50\n",
      "The div of x and y is 2\n",
      "is x bigger than y? True\n"
     ]
    }
   ],
   "source": [
    "# طباعة النتائج\n",
    "print(\"The sum of x and y is:\", result1)\n",
    "print(\"The sub of x and y is\", result2)\n",
    "print(\"The mult of x and y is\", result3)\n",
    "print(\"The div of x and y is\", result4)\n",
    "print(\"is x bigger than y?\", logical_result)\n"
   ]
  },
  {
   "cell_type": "markdown",
   "id": "1275ecf8-a630-43ab-99ba-1e9a256cada5",
   "metadata": {},
   "source": [
    "# 6. Printing using print(f)"
   ]
  },
  {
   "cell_type": "markdown",
   "id": "5f50c1a9-8e25-4b03-9349-55cfc618112e",
   "metadata": {},
   "source": [
    "# Some examples of how to use"
   ]
  },
  {
   "cell_type": "code",
   "execution_count": 26,
   "id": "34a975f0",
   "metadata": {},
   "outputs": [
    {
     "name": "stdout",
     "output_type": "stream",
     "text": [
      "My name is John and I am 30 years old.\n"
     ]
    }
   ],
   "source": [
    "name = \"John\"\n",
    "age = 30\n",
    "print(f\"My name is {name} and I am {age} years old.\")\n"
   ]
  },
  {
   "cell_type": "markdown",
   "id": "9da308f9-7bc8-4713-98d7-ce088c52b06d",
   "metadata": {},
   "source": [
    "#  # # # THE END OF 6TH VIDEO"
   ]
  },
  {
   "cell_type": "markdown",
   "id": "c2bf905e-2086-4d95-83d3-9d5692c158bd",
   "metadata": {},
   "source": [
    "# Mathematical expressions:"
   ]
  },
  {
   "cell_type": "code",
   "execution_count": 9,
   "id": "435b2194",
   "metadata": {},
   "outputs": [
    {
     "name": "stdout",
     "output_type": "stream",
     "text": [
      "The sum of 10 and 20 is 30.\n"
     ]
    }
   ],
   "source": [
    "a = 10\n",
    "b = 20\n",
    "print(f\"The sum of {a} and {b} is {a + b}.\")\n"
   ]
  },
  {
   "cell_type": "markdown",
   "id": "2f725fa8-da66-4b08-847b-281d170065c5",
   "metadata": {},
   "source": [
    "# Decimal numbers:\n"
   ]
  },
  {
   "cell_type": "code",
   "execution_count": 10,
   "id": "35dbd23a",
   "metadata": {},
   "outputs": [
    {
     "name": "stdout",
     "output_type": "stream",
     "text": [
      "The value of pi is approximately 3.14.\n"
     ]
    }
   ],
   "source": [
    "pi = 3.14159\n",
    "print(f\"The value of pi is approximately {pi:.2f}.\")\n"
   ]
  },
  {
   "cell_type": "markdown",
   "id": "92020988-d55a-4f95-b0df-cbf31ed75ea6",
   "metadata": {},
   "source": [
    "# strings length"
   ]
  },
  {
   "cell_type": "code",
   "execution_count": 12,
   "id": "466e8755",
   "metadata": {},
   "outputs": [
    {
     "name": "stdout",
     "output_type": "stream",
     "text": [
      "The length of the text is 16 characters.\n"
     ]
    }
   ],
   "source": [
    "text = \"jkbhjvfyjkuhjik;\"\n",
    "print(f\"The length of the text is {len(text)} characters.\")\n"
   ]
  },
  {
   "cell_type": "markdown",
   "id": "3258d38c-9fb3-4786-8459-36a396f55eb5",
   "metadata": {},
   "source": [
    "# 7. The importance of understanding the priorities of arithmetic operations in Python"
   ]
  },
  {
   "cell_type": "code",
   "execution_count": 13,
   "id": "ffff3689",
   "metadata": {},
   "outputs": [
    {
     "name": "stdout",
     "output_type": "stream",
     "text": [
      "14\n"
     ]
    }
   ],
   "source": [
    "result = 2 + 3 * 4\n",
    "print(result)  # * then +"
   ]
  },
  {
   "cell_type": "code",
   "execution_count": 14,
   "id": "095b9c18",
   "metadata": {},
   "outputs": [
    {
     "name": "stdout",
     "output_type": "stream",
     "text": [
      "20\n"
     ]
    }
   ],
   "source": [
    "result = (2 + 3) * 4\n",
    "print(result)  # الناتج سيكون 20\n"
   ]
  },
  {
   "cell_type": "code",
   "execution_count": 15,
   "id": "e2c8ed0d",
   "metadata": {},
   "outputs": [
    {
     "name": "stdout",
     "output_type": "stream",
     "text": [
      "43\n"
     ]
    }
   ],
   "source": [
    "result = 5 ** 2 +(1+5) *3\n",
    "print(result)  # سيظهر الناتج 43\n"
   ]
  },
  {
   "cell_type": "markdown",
   "id": "dfb575e7-4420-459f-9dc4-a3456ec2cc79",
   "metadata": {},
   "source": [
    "# calculates profit and profit margin:"
   ]
  },
  {
   "cell_type": "code",
   "execution_count": 5,
   "id": "6195d4ec",
   "metadata": {},
   "outputs": [
    {
     "name": "stdout",
     "output_type": "stream",
     "text": [
      "400\n",
      "40.0 %\n"
     ]
    }
   ],
   "source": [
    "# Define revenue and expenses\n",
    "revenue = 1000  \n",
    "expenses = 600  \n",
    "\n",
    "# Calculate profit\n",
    "profit = revenue - expenses\n",
    "\n",
    "# Calculate profit margin as a percentage\n",
    "profit_margin = (profit / revenue) * 100\n",
    "\n",
    "# Print the results\n",
    "print(profit)  # Expected output: 400\n",
    "print(profit_margin, \"%\")  # Expected output: 40.0%\n"
   ]
  },
  {
   "cell_type": "markdown",
   "id": "0930efa6-3df1-489d-b1a9-64432e0d23a5",
   "metadata": {},
   "source": [
    "# Calculate the total cost"
   ]
  },
  {
   "cell_type": "code",
   "execution_count": 6,
   "id": "e600b6bf-75a0-41c4-9219-97f4b94b85d5",
   "metadata": {},
   "outputs": [
    {
     "name": "stdout",
     "output_type": "stream",
     "text": [
      "The total cost is: 50\n"
     ]
    }
   ],
   "source": [
    "# Define the price of a single item\n",
    "price = 10  \n",
    "\n",
    "# Define the quantity of items\n",
    "quantity = 5  \n",
    "\n",
    "# Calculate the total cost\n",
    "total_cost = price * quantity\n",
    "\n",
    "# Print the total cost\n",
    "print(\"The total cost is:\", total_cost)  # Expected output: The total cost is: 50\n"
   ]
  },
  {
   "cell_type": "markdown",
   "id": "090ba099-d16c-4f0f-a25c-2c068d4b54fd",
   "metadata": {},
   "source": [
    "# If "
   ]
  },
  {
   "cell_type": "code",
   "execution_count": 20,
   "id": "c58d025f",
   "metadata": {},
   "outputs": [
    {
     "name": "stdout",
     "output_type": "stream",
     "text": [
      "x is greater than 3\n",
      "x is lower than 2\n"
     ]
    }
   ],
   "source": [
    "x = 10\n",
    "if x > 3:\n",
    "    print(\"x is greater than 3\")\n",
    "print(\"x is lower than 2\")\n",
    "\n"
   ]
  },
  {
   "cell_type": "markdown",
   "id": "e91bfbde-e4ba-4068-b5fd-feeec25bf816",
   "metadata": {},
   "source": [
    "# if else"
   ]
  },
  {
   "cell_type": "markdown",
   "id": "186173f1-c92a-4844-9c75-388fbab292dc",
   "metadata": {},
   "source": [
    "# "
   ]
  },
  {
   "cell_type": "code",
   "execution_count": 13,
   "id": "dfbbeb7f",
   "metadata": {},
   "outputs": [
    {
     "name": "stdout",
     "output_type": "stream",
     "text": [
      "x is less than or equal to 3\n"
     ]
    }
   ],
   "source": [
    "x = 2\n",
    "if x > 3:\n",
    "    print(\"x is greater than 3\")\n",
    "else:\n",
    "    print(\"x is less than or equal to 3\")\n"
   ]
  },
  {
   "cell_type": "markdown",
   "id": "375fc7d6-e1cb-4439-8146-94b9ba213bd2",
   "metadata": {},
   "source": [
    "# if elif else"
   ]
  },
  {
   "cell_type": "code",
   "execution_count": 21,
   "id": "f79e9a89-c3a3-4652-af52-a70899acb8a7",
   "metadata": {},
   "outputs": [
    {
     "name": "stdout",
     "output_type": "stream",
     "text": [
      "x is less than 3\n"
     ]
    }
   ],
   "source": [
    "x = 2\n",
    "if x > 3:\n",
    "    print(\"x is greater than 3\")\n",
    "elif x == 3:\n",
    "    print(\"x is equal to 3\")\n",
    "else:\n",
    "    print(\"x is less than 3\")\n"
   ]
  },
  {
   "cell_type": "code",
   "execution_count": 11,
   "id": "110087e2",
   "metadata": {},
   "outputs": [
    {
     "name": "stdout",
     "output_type": "stream",
     "text": [
      "1\n",
      "2\n",
      "3\n",
      "4\n",
      "5\n"
     ]
    }
   ],
   "source": [
    "numbers = [1, 2, 3, 4, 5]\n",
    "for number in numbers:\n",
    "    print(number)\n"
   ]
  },
  {
   "cell_type": "code",
   "execution_count": 18,
   "id": "4a6fd96f",
   "metadata": {},
   "outputs": [
    {
     "name": "stdout",
     "output_type": "stream",
     "text": [
      "1\n",
      "2\n",
      "3\n",
      "4\n",
      "5\n"
     ]
    }
   ],
   "source": [
    "x = 1\n",
    "while x <= 5:\n",
    "    print(x)\n",
    "    x += 1\n"
   ]
  },
  {
   "cell_type": "code",
   "execution_count": 19,
   "id": "3a6c9699",
   "metadata": {},
   "outputs": [],
   "source": [
    "def my_function(argument1, argument2):  # تعريف الدالة باستخدام def وتحديد المتغيرات اللازمة\n",
    "    # الأوامر التي تنفذ داخل الدالة\n",
    "    result = argument1 + argument2\n",
    "    return result  # إرجاع القيمة المحسوبة\n"
   ]
  },
  {
   "cell_type": "code",
   "execution_count": 20,
   "id": "ab21007b",
   "metadata": {},
   "outputs": [
    {
     "name": "stdout",
     "output_type": "stream",
     "text": [
      "30\n"
     ]
    }
   ],
   "source": [
    "result = my_function(10, 20)  # استدعاء الدالة وتمرير القيم\n",
    "print(result)  # سيطبع الناتج الذي تم إرجاعه من الدالة\n"
   ]
  },
  {
   "cell_type": "code",
   "execution_count": 24,
   "id": "fcc5972b",
   "metadata": {},
   "outputs": [],
   "source": [
    "def calculate_revenue(price, quantity):\n",
    "    total_revenue = price * quantity\n",
    "    return total_revenue\n"
   ]
  },
  {
   "cell_type": "code",
   "execution_count": 25,
   "id": "6f41e520",
   "metadata": {},
   "outputs": [
    {
     "name": "stdout",
     "output_type": "stream",
     "text": [
      "The total revenue is: 300\n"
     ]
    }
   ],
   "source": [
    "product_price = 15  # سعر المنتج\n",
    "product_quantity = 20  # كمية المنتج\n",
    "total = calculate_revenue(product_price, product_quantity)\n",
    "print(f\"The total revenue is: {total}\")\n"
   ]
  },
  {
   "cell_type": "code",
   "execution_count": 30,
   "id": "1dfd55e9",
   "metadata": {},
   "outputs": [
    {
     "name": "stdout",
     "output_type": "stream",
     "text": [
      "Hello, World!\n",
      "5\n",
      "<class 'int'>\n",
      "Enter your name: ahmad\n",
      "Hello, ahmad!\n",
      "0\n",
      "1\n",
      "2\n",
      "3\n",
      "4\n",
      "50\n",
      "30\n",
      "5\n",
      "(1, 2, 3)\n"
     ]
    }
   ],
   "source": [
    "# توابع جاهزة شائعة في Python\n",
    "\n",
    "# print(): لطباعة النصوص والقيم على الشاشة\n",
    "print(\"Hello, World!\")\n",
    "\n",
    "# len(): لحساب عدد العناصر في التسلسلات مثل القوائم والسلاسل والتفاضل\n",
    "my_list = [1, 2, 3, 4, 5]\n",
    "print(len(my_list))  # سيطبع \"5\"\n",
    "\n",
    "# type(): للحصول على نوع البيانات للكائن المحدد\n",
    "x = 10\n",
    "print(type(x))  # سيطبع \"<class 'int'>\"\n",
    "\n",
    "# input(): لاستقبال مدخل من المستخدم\n",
    "name = input(\"Enter your name: \")\n",
    "print(f\"Hello, {name}!\")\n",
    "\n",
    "# range(): لإنشاء تسلسل من الأرقام\n",
    "for i in range(5):\n",
    "    print(i)  # سيطبع الأرقام من 0 إلى 4\n",
    "\n",
    "# int(), float(), str(): لتحويل البيانات من نوع لآخر\n",
    "num_str = \"25\"\n",
    "num_int = int(num_str)\n",
    "print(num_int * 2)  # سيطبع \"50\"\n",
    "\n",
    "# max(), min(): للعثور على القيمة الأعلى والأدنى في تسلسل\n",
    "numbers = [10, 20, 5, 30]\n",
    "print(max(numbers))  # سيطبع \"30\"\n",
    "print(min(numbers))  # سيطبع \"5\"\n",
    "\n",
    "# list(), tuple(), set(), dict(): لإنشاء تسلسلات مختلفة من البيانات\n",
    "my_tuple = tuple([1, 2, 3])\n",
    "print(my_tuple)  # سيطبع \"(1, 2, 3)\"\n"
   ]
  },
  {
   "cell_type": "code",
   "execution_count": null,
   "id": "3cfa6796",
   "metadata": {},
   "outputs": [],
   "source": []
  }
 ],
 "metadata": {
  "kernelspec": {
   "display_name": "Python 3 (ipykernel)",
   "language": "python",
   "name": "python3"
  },
  "language_info": {
   "codemirror_mode": {
    "name": "ipython",
    "version": 3
   },
   "file_extension": ".py",
   "mimetype": "text/x-python",
   "name": "python",
   "nbconvert_exporter": "python",
   "pygments_lexer": "ipython3",
   "version": "3.11.7"
  }
 },
 "nbformat": 4,
 "nbformat_minor": 5
}
